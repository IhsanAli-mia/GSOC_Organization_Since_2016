{
 "cells": [
  {
   "cell_type": "code",
   "execution_count": 2,
   "metadata": {},
   "outputs": [],
   "source": [
    "import json\n",
    "import csv"
   ]
  },
  {
   "cell_type": "code",
   "execution_count": 3,
   "metadata": {},
   "outputs": [],
   "source": [
    "json_files = []\n",
    "\n",
    "for year in range(2016,2025):\n",
    "    path = f'data/{year}.json'\n",
    "\n",
    "\n",
    "    with open(path,'r') as file:\n",
    "        json_data = json.load(file)\n",
    "\n",
    "    json_files.append(json_data)"
   ]
  },
  {
   "cell_type": "code",
   "execution_count": 4,
   "metadata": {},
   "outputs": [],
   "source": [
    "project_data = {}\n",
    "\n",
    "year = 2016\n",
    "for files in json_files:\n",
    "    organizations = files['organizations']\n",
    "    \n",
    "    for organization in organizations:\n",
    "        name = organization[\"name\"]\n",
    "        numbers = organization[\"num_projects\"]\n",
    "        \n",
    "        if name not in project_data:\n",
    "            project_data[name] = {}\n",
    "        \n",
    "        project_data[name][year] = numbers\n",
    "        \n",
    "    year += 1"
   ]
  },
  {
   "cell_type": "code",
   "execution_count": 5,
   "metadata": {},
   "outputs": [],
   "source": [
    "json_object = json.dumps(project_data)\n",
    "\n",
    "with open(\"gsoc_organizations_since_2016.json\",\"w\") as outfile:\n",
    "    outfile.write(json_object)"
   ]
  },
  {
   "cell_type": "code",
   "execution_count": null,
   "metadata": {},
   "outputs": [],
   "source": [
    "f = open('gsoc_organizations_since_2016.csv','w')\n",
    "writer = csv.writer(f)\n",
    "writer.writerow(['Organization Name','2024','2023','2022','2021','2020','2019','2018','2017','2016'])"
   ]
  },
  {
   "cell_type": "code",
   "execution_count": null,
   "metadata": {},
   "outputs": [],
   "source": [
    "rows = []\n",
    "for organization in project_data:\n",
    "    row = [organization]\n",
    "    years = project_data[organization]\n",
    "    \n",
    "    for year in range(2024,2015,-1):\n",
    "        if year not in years:\n",
    "            row.append(0)\n",
    "        else:\n",
    "            row.append(years[year])\n",
    "    \n",
    "    rows.append(row)\n",
    "    \n",
    "rows.sort(key=lambda x:x[0])\n",
    "print(rows)"
   ]
  },
  {
   "cell_type": "code",
   "execution_count": null,
   "metadata": {},
   "outputs": [],
   "source": [
    "writer.writerows(rows)"
   ]
  }
 ],
 "metadata": {
  "kernelspec": {
   "display_name": "Python 3",
   "language": "python",
   "name": "python3"
  },
  "language_info": {
   "codemirror_mode": {
    "name": "ipython",
    "version": 3
   },
   "file_extension": ".py",
   "mimetype": "text/x-python",
   "name": "python",
   "nbconvert_exporter": "python",
   "pygments_lexer": "ipython3",
   "version": "3.13.0"
  }
 },
 "nbformat": 4,
 "nbformat_minor": 2
}
